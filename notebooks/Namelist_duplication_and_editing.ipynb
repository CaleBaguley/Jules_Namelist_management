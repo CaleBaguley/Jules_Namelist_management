{
 "cells": [
  {
   "cell_type": "code",
   "id": "initial_id",
   "metadata": {
    "collapsed": true
   },
   "source": [
    "import src.Namelist_management.Duplicate\n",
    "import src.Namelist_management.Duplicate as Duplicate\n",
    "import src.Namelist_management.Read as Read\n",
    "import src.Namelist_management.Edit_variable as Edit_variable\n",
    "import os\n"
   ],
   "outputs": [],
   "execution_count": null
  },
  {
   "metadata": {},
   "cell_type": "markdown",
   "source": "Create duplicat copy of namelists folder.",
   "id": "e2f485fd5f2ab128"
  },
  {
   "metadata": {},
   "cell_type": "code",
   "source": [
    "namelist_master = '/Users/jb14389/Desktop/JULES/data/Example met data/FR_Pue/FR_Pue/FR_Pue_gs_opt/namelists/'\n",
    "\n",
    "# duplicate to temporary folder\n",
    "namelist_duplicate = os.getcwd() + '/tmp/namelist/'\n",
    "\n",
    "Duplicate.duplicate(namelist_master, namelist_duplicate, overwrite=True)"
   ],
   "id": "f3be3da632db394c",
   "outputs": [],
   "execution_count": null
  },
  {
   "metadata": {},
   "cell_type": "markdown",
   "source": "Use the function to create a duplicate of the soil ancillary file and change the path in the ancillary namelist file.",
   "id": "20093f34d35e493c"
  },
  {
   "metadata": {},
   "cell_type": "code",
   "source": [
    "soil_source_file = '/Users/jb14389/Desktop/JULES/data/PLUMBER2/ancillaries/site_hwsd_soil/FR-Pue_soils.txt'\n",
    "soil_duplicate_file = os.getcwd() + '/tmp/'\n",
    "ancillary_namelist = namelist_duplicate + 'ancillaries.nml'\n",
    "\n",
    "new_soil_file = Duplicate.duplicate_soil_ancillary(soil_source_file,\n",
    "                                                   soil_duplicate_file,\n",
    "                                                   ancillary_namelist,\n",
    "                                                   True)\n",
    "\n",
    "print(Read.read_variable(ancillary_namelist, 'jules_soil_props', 'file'))"
   ],
   "id": "f19ba424212f7c89",
   "outputs": [],
   "execution_count": null
  },
  {
   "metadata": {},
   "cell_type": "markdown",
   "source": "Read the values in the soil new ancillary file.",
   "id": "b74ce9d45620c8f0"
  },
  {
   "metadata": {},
   "cell_type": "code",
   "source": [
    "soil_variable_names = Read.read_variable(ancillary_namelist, 'jules_soil_props', 'var')\n",
    "print(soil_variable_names)\n",
    "\n",
    "soil_ancillary_lines = Read.read_file(new_soil_file)\n",
    "print(soil_ancillary_lines)\n",
    "\n",
    "soil_variable = Read.read_soil_variable(new_soil_file, 'sm_wilt', ancillary_namelist)\n",
    "print(soil_variable)"
   ],
   "id": "8aba85835f446df4",
   "outputs": [],
   "execution_count": null
  },
  {
   "metadata": {},
   "cell_type": "markdown",
   "source": "Change a value in the soil ancillary file.",
   "id": "f7a1be5c99643367"
  },
  {
   "metadata": {},
   "cell_type": "code",
   "source": [
    "Edit_variable.edit_soil_variable(new_soil_file, ['hcon','b'], ['-1.0','10'], ancillary_namelist)\n",
    "    \n",
    "Read.read_file(new_soil_file)"
   ],
   "id": "3e4deaba39167cbc",
   "outputs": [],
   "execution_count": null
  }
 ],
 "metadata": {
  "kernelspec": {
   "display_name": "Python 3",
   "language": "python",
   "name": "python3"
  },
  "language_info": {
   "codemirror_mode": {
    "name": "ipython",
    "version": 2
   },
   "file_extension": ".py",
   "mimetype": "text/x-python",
   "name": "python",
   "nbconvert_exporter": "python",
   "pygments_lexer": "ipython2",
   "version": "2.7.6"
  }
 },
 "nbformat": 4,
 "nbformat_minor": 5
}
