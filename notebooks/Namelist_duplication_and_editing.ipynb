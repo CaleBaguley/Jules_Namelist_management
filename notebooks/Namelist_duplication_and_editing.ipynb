{
 "cells": [
  {
   "cell_type": "code",
   "id": "initial_id",
   "metadata": {
    "collapsed": true,
    "ExecuteTime": {
     "end_time": "2024-12-10T14:17:57.840422Z",
     "start_time": "2024-12-10T14:17:57.827329Z"
    }
   },
   "source": [
    "import src.Namelist_management.Duplicate as Duplicate\n",
    "import src.Namelist_management.soil_ancillary_setup as soil_ancillary_setup\n",
    "import src.Namelist_management.Read as Read\n",
    "import os\n"
   ],
   "outputs": [],
   "execution_count": 1
  },
  {
   "metadata": {},
   "cell_type": "markdown",
   "source": "Create duplicat copy of namelists folder.",
   "id": "e2f485fd5f2ab128"
  },
  {
   "metadata": {
    "ExecuteTime": {
     "end_time": "2024-12-10T14:17:58.060513Z",
     "start_time": "2024-12-10T14:17:57.846413Z"
    }
   },
   "cell_type": "code",
   "source": [
    "namelist_master = '/Users/jb14389/Desktop/JULES/data/Example met data/FR_Pue/FR_Pue/FR_Pue_gs_opt/namelists/'\n",
    "\n",
    "# duplicate to temporary folder\n",
    "namelist_duplicate = os.getcwd() + '/tmp/namelist/'\n",
    "\n",
    "Duplicate.duplicate(namelist_master, namelist_duplicate, overwrite=True)"
   ],
   "id": "f3be3da632db394c",
   "outputs": [
    {
     "name": "stdout",
     "output_type": "stream",
     "text": [
      "Copying files...\n",
      "Copying file:  jules_irrig.nml\n",
      "Copying file:  fire.nml\n",
      "Copying file:  jules_soil_ecosse.nml\n",
      "Copying file:  model_environment.nml\n",
      "Copying file:  jules_soil.nml\n",
      "Copying file:  imogen.nml\n",
      "Copying file:  jules_water_resources.nml\n",
      "Copying file:  jules_soil_biogeochem.nml\n",
      "Copying file:  pft_params.nml\n",
      "Copying file:  jules_vegetation.nml\n",
      "Copying file:  initial_conditions.nml\n",
      "Copying file:  cable_prognostics.nml\n",
      "Copying file:  cable_surface_types.nml\n",
      "Copying file:  jules_prnt_control.nml\n",
      "Copying file:  timesteps.nml\n",
      "Copying file:  science_fixes.nml\n",
      "Copying file:  drive.nml\n",
      "Copying file:  cable_soilparm.nml\n",
      "Copying file:  jules_deposition.nml\n",
      "Copying file:  prescribed_data.nml\n",
      "Copying file:  output.nml\n",
      "Copying file:  crop_params.nml\n",
      "Copying file:  jules_rivers.nml\n",
      "Copying file:  triffid_params.nml\n",
      "Copying file:  jules_surface.nml\n",
      "Copying file:  jules_surface_types.nml\n",
      "Copying file:  jules_hydrology.nml\n",
      "Copying file:  model_grid.nml\n",
      "Copying file:  urban.nml\n",
      "Copying file:  jules_snow.nml\n",
      "Copying file:  jules_radiation.nml\n",
      "Copying file:  ancillaries.nml\n",
      "Copying file:  nveg_params.nml\n"
     ]
    },
    {
     "data": {
      "text/plain": [
       "True"
      ]
     },
     "execution_count": 2,
     "metadata": {},
     "output_type": "execute_result"
    }
   ],
   "execution_count": 2
  },
  {
   "metadata": {},
   "cell_type": "markdown",
   "source": "Use the function to create a duplicate of the soil ancillary file and change the path in the ancillary namelist file.",
   "id": "20093f34d35e493c"
  },
  {
   "metadata": {
    "ExecuteTime": {
     "end_time": "2024-12-10T14:17:58.287882Z",
     "start_time": "2024-12-10T14:17:58.277207Z"
    }
   },
   "cell_type": "code",
   "source": [
    "soil_source_file = '/Users/jb14389/Desktop/JULES/data/PLUMBER2/ancillaries/site_hwsd_soil/FR-Pue_soils.txt'\n",
    "soil_duplicate_file = os.getcwd() + '/tmp/'\n",
    "ancillary_namelist = namelist_duplicate + 'ancillaries.nml'\n",
    "\n",
    "new_soil_file = soil_ancillary_setup.duplicate_soil_ancillary(soil_source_file, \n",
    "                                                              soil_duplicate_file, \n",
    "                                                              ancillary_namelist, \n",
    "                                                              True)"
   ],
   "id": "f19ba424212f7c89",
   "outputs": [
    {
     "name": "stdout",
     "output_type": "stream",
     "text": [
      "Variable found.\n",
      "Writing changes to file...\n"
     ]
    }
   ],
   "execution_count": 3
  },
  {
   "metadata": {},
   "cell_type": "markdown",
   "source": "Read the values in the soil new ancillary file.",
   "id": "b74ce9d45620c8f0"
  },
  {
   "metadata": {
    "ExecuteTime": {
     "end_time": "2024-12-10T14:17:58.353182Z",
     "start_time": "2024-12-10T14:17:58.350698Z"
    }
   },
   "cell_type": "code",
   "source": [
    "soil_ancillary_lines = Read.read_file(new_soil_file)\n",
    "\n",
    "print(soil_ancillary_lines)"
   ],
   "id": "8aba85835f446df4",
   "outputs": [
    {
     "name": "stdout",
     "output_type": "stream",
     "text": [
      "['6.742 1234446.912 0.16608141 0.24737137 0.29253607 0.0042228 0.22656875 0.43648 0.11']\n"
     ]
    }
   ],
   "execution_count": 4
  },
  {
   "metadata": {},
   "cell_type": "markdown",
   "source": "Change the values in the soil ancillary file.",
   "id": "f7a1be5c99643367"
  },
  {
   "metadata": {
    "ExecuteTime": {
     "end_time": "2024-12-10T14:17:58.427233Z",
     "start_time": "2024-12-10T14:17:58.418851Z"
    }
   },
   "cell_type": "code",
   "source": [
    "new_soil_ancillary_lines = ['2000 1234446.912 0.16608141 0.24737137 0.29253607 0.0042228 0.22656875 0.43648 0.11']\n",
    "\n",
    "with open(new_soil_file, \"w\") as file:\n",
    "    file.writelines(new_soil_ancillary_lines)\n",
    "    \n",
    "Read.read_file(new_soil_file)"
   ],
   "id": "3e4deaba39167cbc",
   "outputs": [
    {
     "data": {
      "text/plain": [
       "['2000 1234446.912 0.16608141 0.24737137 0.29253607 0.0042228 0.22656875 0.43648 0.11']"
      ]
     },
     "execution_count": 5,
     "metadata": {},
     "output_type": "execute_result"
    }
   ],
   "execution_count": 5
  }
 ],
 "metadata": {
  "kernelspec": {
   "display_name": "Python 3",
   "language": "python",
   "name": "python3"
  },
  "language_info": {
   "codemirror_mode": {
    "name": "ipython",
    "version": 2
   },
   "file_extension": ".py",
   "mimetype": "text/x-python",
   "name": "python",
   "nbconvert_exporter": "python",
   "pygments_lexer": "ipython2",
   "version": "2.7.6"
  }
 },
 "nbformat": 4,
 "nbformat_minor": 5
}
