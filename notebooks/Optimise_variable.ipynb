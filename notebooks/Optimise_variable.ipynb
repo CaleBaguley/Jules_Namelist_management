{
 "cells": [
  {
   "cell_type": "code",
   "id": "initial_id",
   "metadata": {
    "collapsed": true,
    "ExecuteTime": {
     "end_time": "2025-02-26T13:36:17.637652Z",
     "start_time": "2025-02-26T13:36:16.495270Z"
    }
   },
   "source": [
    "import os\n",
    "import pandas as pd\n",
    "\n",
    "from src.Calibration.optimise_variable import optimise_variable"
   ],
   "outputs": [],
   "execution_count": 1
  },
  {
   "metadata": {},
   "cell_type": "markdown",
   "source": [
    "# Introduction\n",
    "The aim of this notebook is to test the variable optimisation code."
   ],
   "id": "e25d7a21884f4b5f"
  },
  {
   "metadata": {},
   "cell_type": "markdown",
   "source": "## Setup",
   "id": "4151aaa85d479084"
  },
  {
   "metadata": {
    "ExecuteTime": {
     "end_time": "2025-02-26T13:36:17.643223Z",
     "start_time": "2025-02-26T13:36:17.640823Z"
    }
   },
   "cell_type": "code",
   "source": [
    "# File paths\n",
    "JULES_executable = '/Users/jb14389/Desktop/JULES/src/V7.0/Xylem_imparement/build/bin/jules.exe'\n",
    "master_namelist_address = '/Users/jb14389/Desktop/JULES/runs/roses/UK-Ham/2022-2023/namelists/namelists_profit_max/'\n",
    "output_file_address = os.getcwd() + '/Optimise_variable_test_output/'\n",
    "\n",
    "# Variable details\n",
    "variable_names = 'kmax_pft_io'\n",
    "variable_namelists = 'jules_pftparm'\n",
    "variable_namelist_files = 'pft_params.nml'\n",
    "\n",
    "# Observation data\n",
    "observation_data_address = '/Users/jb14389/Desktop/JULES/data/Alice_Holt/data/alice_holt_met_data_2022.csv'\n",
    "obs_variable_keys = [\"LE\"]\n",
    "jules_out_variable_keys = [\"Qle\"]\n",
    "\n",
    "# Run details\n",
    "run_id_prefix = 'Iterate_variable_test'"
   ],
   "id": "1732b0cd5476a04",
   "outputs": [],
   "execution_count": 2
  },
  {
   "metadata": {},
   "cell_type": "markdown",
   "source": "## Setup observation data",
   "id": "8a3fcf7fa8232e09"
  },
  {
   "metadata": {
    "ExecuteTime": {
     "end_time": "2025-02-26T13:36:17.786013Z",
     "start_time": "2025-02-26T13:36:17.758463Z"
    }
   },
   "cell_type": "code",
   "source": [
    "import pandas as pd\n",
    "observation_data = pd.read_csv(observation_data_address)\n",
    "observation_data['DateTime'] = pd.to_datetime(observation_data['DateTime'])\n",
    "observation_data = observation_data.set_index('DateTime')\n",
    "print(observation_data.head())"
   ],
   "id": "375dfa7062a4c194",
   "outputs": [
    {
     "name": "stdout",
     "output_type": "stream",
     "text": [
      "                           LE     Tair     Psurf       RH      VPD     Ustar  \\\n",
      "DateTime                                                                       \n",
      "2022-01-01 00:00:00 -2.019580  289.322  101608.0  58.9187  752.751  0.518448   \n",
      "2022-01-01 00:30:00 -2.019580  289.322  101608.0  58.9187  752.751  0.518448   \n",
      "2022-01-01 01:00:00 -0.760662  287.886  101628.0  64.8896  586.710  0.598314   \n",
      "2022-01-01 01:30:00 -0.760662  287.886  101628.0  64.8896  586.710  0.598314   \n",
      "2022-01-01 02:00:00 -1.792900  286.193  101659.0  71.8934  420.788  0.503715   \n",
      "\n",
      "                      Rnet  Rainf   Wind  PAR  CO2air      Qair      Lwdown  \\\n",
      "DateTime                                                                      \n",
      "2022-01-01 00:00:00 -2.972    0.0  2.554  0.0  418.56  0.006778  329.573403   \n",
      "2022-01-01 00:30:00 -2.478    0.0  2.621  0.0  418.56  0.006778  329.573403   \n",
      "2022-01-01 01:00:00 -2.294    0.0  3.054  0.0  418.56  0.006796  325.935594   \n",
      "2022-01-01 01:30:00 -2.938    0.0  2.392  0.0  418.56  0.006796  325.935594   \n",
      "2022-01-01 02:00:00 -5.443    0.0  3.003  0.0  418.56  0.006731  321.173051   \n",
      "\n",
      "                     Swdown  \n",
      "DateTime                     \n",
      "2022-01-01 00:00:00     0.0  \n",
      "2022-01-01 00:30:00     0.0  \n",
      "2022-01-01 01:00:00     0.0  \n",
      "2022-01-01 01:30:00     0.0  \n",
      "2022-01-01 02:00:00     0.0  \n"
     ]
    }
   ],
   "execution_count": 3
  },
  {
   "metadata": {},
   "cell_type": "markdown",
   "source": "## Run optimisation",
   "id": "1f60c297071fa697"
  },
  {
   "metadata": {
    "jupyter": {
     "is_executing": true
    },
    "ExecuteTime": {
     "start_time": "2025-02-26T13:36:17.794176Z"
    }
   },
   "cell_type": "code",
   "source": [
    "out = optimise_variable(JULES_executable,\n",
    "                        master_namelist_address,\n",
    "                        variable_names,\n",
    "                        variable_namelists,\n",
    "                        variable_namelist_files,\n",
    "                        observation_data,\n",
    "                        obs_variable_keys,\n",
    "                        jules_out_variable_keys,\n",
    "                        run_id_prefix,\n",
    "                        max_iter=1,\n",
    "                        variable_bounds = [[0.1e-9, 3e-9]],\n",
    "                        output_folder = output_file_address,\n",
    "                        keep_dump_files = False,\n",
    "                        tmp_folder = None,\n",
    "                        overwrite_tmp_files = True,\n",
    "                        overwrite_output_files = True,\n",
    "                        append_to_run_info = False,\n",
    "                        save_rmse=True,\n",
    "                        save_run_time=True,\n",
    "                        minimize_method='Nelder-Mead')\n",
    "\n",
    "print(out)"
   ],
   "id": "566f1356e02f9f11",
   "outputs": [
    {
     "name": "stdout",
     "output_type": "stream",
     "text": [
      "Variable (output_dir) found.\n",
      "Initial values:\n",
      "kmax_pft_io = 1.5e-09\n",
      "Variable (output_dir) found.\n",
      "Optimising variables...\n",
      "Setup Iterate_variable_test_1...\n",
      "Variable (kmax_pft_io) found.\n",
      "Variable (run_id) found.\n",
      "Running Iterate_variable_test_1...\n"
     ]
    },
    {
     "name": "stderr",
     "output_type": "stream",
     "text": [
      "/Users/jb14389/Desktop/JULES/JULES_calibration/Calibration/src/Calibration/optimise_variable.py:181: OptimizeWarning: Unknown solver options: max_iter\n",
      "  minimize(calc_rmse_for_given_values,\n",
      "[WARNING] WARN_JULES_TEMP_FIXES: \n",
      "Model run excludes a change from JULES ticket 547 as\n",
      " l_fix_alb_ice_thick=.FALSE.\n",
      "This will affect any model runs where l_sice_multilayers is    \n",
      ".TRUE. and will result in an incorrect sea ice thickness being \n",
      "used in the calculation of bare ice albedo.\n",
      "[WARNING] WARN_JULES_TEMP_FIXES: \n",
      "Model run excludes a change from um:#3011 as\n",
      " l_fix_albsnow_ts=.FALSE.\n",
      "This affects the albedo of snow as calculated in the two-stream\n",
      "scheme in JULES.\n",
      "[WARNING] WARN_JULES_TEMP_FIXES: Model run excludes um:#1017 as\n",
      " fix_ctile_orog=off\n",
      " This will affect runs with coastal tiling.\n",
      "[WARNING] WARN_JULES_TEMP_FIXES: \n",
      "jules:#610 fix to the radiative roof coupling is not enabled: l_fix_moruses_roof_rad_coupling = .FALSE.\n",
      "[WARNING] WARN_JULES_TEMP_FIXES: \n",
      "Model run excludes a change from ticket um:#4581 as\n",
      " l_fix_osa_chloro=.FALSE.\n",
      " This will mean that chlorophyll used for the ocean albedo is\n",
      " used in gm-3 when it should be mg m-3\n",
      "[WARNING] WARN_JULES_TEMP_FIXES: \n",
      "Model run excludes a change from ticket jules:#194 as\n",
      " l_accurate_rho=.FALSE.\n",
      " This will mean that an inaccurate estimate of surface air \n",
      " density will be used\n",
      "[WARNING] WARN_JULES_TEMP_FIXES: \n",
      "jules:#1279 fix to remove persistent small snow amounts\n",
      " when using the frac_snow_subl_melt=1 option is not enabled: \n",
      "l_fix_snow_frac = .FALSE.\n",
      "[WARNING] WARN_JULES_TEMP_FIXES: \n",
      "Model run excludes a change from ticket um:#1250 as\n",
      " l_fix_improve_drydep=.FALSE.\n",
      " This will mean that dry deposition velocities are set to null\n",
      " for HCl, HOCl, HBr, HOBr, H2SO4, MeOH and Sec_Org and that dry\n",
      " deposition velocities for 9 tiles are inconsistent with 13/17/27 tiles.\n",
      "[WARNING] WARN_JULES_TEMP_FIXES: \n",
      " Model run excludes a change from ticket um:#5651, \n",
      " l_fix_drydep_so2_water=.FALSE.\n",
      " This will mean that the surface resistance of water when \n",
      " calculating the dry deposition of SO2 is too high for 13, 17 \n",
      " and 27 tiles.\n",
      "[WARNING] WARN_JULES_TEMP_FIXES: \n",
      "Model run excludes a change from ticket um:#4157 as\n",
      " l_fix_ukca_h2dd_x=.FALSE. .\n",
      " This will mean that the wrong element is used for h2dd_c & h2dd_m.\n"
     ]
    },
    {
     "name": "stdout",
     "output_type": "stream",
     "text": [
      "Cacluate RMSE for Iterate_variable_test_1...\n",
      "Cleening up Iterate_variable_test_1...\n",
      "Setup Iterate_variable_test_2...\n",
      "Variable (kmax_pft_io) found.\n",
      "Variable (run_id) found.\n",
      "Running Iterate_variable_test_2...\n"
     ]
    },
    {
     "name": "stderr",
     "output_type": "stream",
     "text": [
      "[WARNING] WARN_JULES_TEMP_FIXES: \n",
      "Model run excludes a change from JULES ticket 547 as\n",
      " l_fix_alb_ice_thick=.FALSE.\n",
      "This will affect any model runs where l_sice_multilayers is    \n",
      ".TRUE. and will result in an incorrect sea ice thickness being \n",
      "used in the calculation of bare ice albedo.\n",
      "[WARNING] WARN_JULES_TEMP_FIXES: \n",
      "Model run excludes a change from um:#3011 as\n",
      " l_fix_albsnow_ts=.FALSE.\n",
      "This affects the albedo of snow as calculated in the two-stream\n",
      "scheme in JULES.\n",
      "[WARNING] WARN_JULES_TEMP_FIXES: Model run excludes um:#1017 as\n",
      " fix_ctile_orog=off\n",
      " This will affect runs with coastal tiling.\n",
      "[WARNING] WARN_JULES_TEMP_FIXES: \n",
      "jules:#610 fix to the radiative roof coupling is not enabled: l_fix_moruses_roof_rad_coupling = .FALSE.\n",
      "[WARNING] WARN_JULES_TEMP_FIXES: \n",
      "Model run excludes a change from ticket um:#4581 as\n",
      " l_fix_osa_chloro=.FALSE.\n",
      " This will mean that chlorophyll used for the ocean albedo is\n",
      " used in gm-3 when it should be mg m-3\n",
      "[WARNING] WARN_JULES_TEMP_FIXES: \n",
      "Model run excludes a change from ticket jules:#194 as\n",
      " l_accurate_rho=.FALSE.\n",
      " This will mean that an inaccurate estimate of surface air \n",
      " density will be used\n",
      "[WARNING] WARN_JULES_TEMP_FIXES: \n",
      "jules:#1279 fix to remove persistent small snow amounts\n",
      " when using the frac_snow_subl_melt=1 option is not enabled: \n",
      "l_fix_snow_frac = .FALSE.\n",
      "[WARNING] WARN_JULES_TEMP_FIXES: \n",
      "Model run excludes a change from ticket um:#1250 as\n",
      " l_fix_improve_drydep=.FALSE.\n",
      " This will mean that dry deposition velocities are set to null\n",
      " for HCl, HOCl, HBr, HOBr, H2SO4, MeOH and Sec_Org and that dry\n",
      " deposition velocities for 9 tiles are inconsistent with 13/17/27 tiles.\n",
      "[WARNING] WARN_JULES_TEMP_FIXES: \n",
      " Model run excludes a change from ticket um:#5651, \n",
      " l_fix_drydep_so2_water=.FALSE.\n",
      " This will mean that the surface resistance of water when \n",
      " calculating the dry deposition of SO2 is too high for 13, 17 \n",
      " and 27 tiles.\n",
      "[WARNING] WARN_JULES_TEMP_FIXES: \n",
      "Model run excludes a change from ticket um:#4157 as\n",
      " l_fix_ukca_h2dd_x=.FALSE. .\n",
      " This will mean that the wrong element is used for h2dd_c & h2dd_m.\n"
     ]
    },
    {
     "name": "stdout",
     "output_type": "stream",
     "text": [
      "Cacluate RMSE for Iterate_variable_test_2...\n",
      "Cleening up Iterate_variable_test_2...\n",
      "Setup Iterate_variable_test_3...\n",
      "Variable (kmax_pft_io) found.\n",
      "Variable (run_id) found.\n",
      "Running Iterate_variable_test_3...\n"
     ]
    },
    {
     "name": "stderr",
     "output_type": "stream",
     "text": [
      "[WARNING] WARN_JULES_TEMP_FIXES: \n",
      "Model run excludes a change from JULES ticket 547 as\n",
      " l_fix_alb_ice_thick=.FALSE.\n",
      "This will affect any model runs where l_sice_multilayers is    \n",
      ".TRUE. and will result in an incorrect sea ice thickness being \n",
      "used in the calculation of bare ice albedo.\n",
      "[WARNING] WARN_JULES_TEMP_FIXES: \n",
      "Model run excludes a change from um:#3011 as\n",
      " l_fix_albsnow_ts=.FALSE.\n",
      "This affects the albedo of snow as calculated in the two-stream\n",
      "scheme in JULES.\n",
      "[WARNING] WARN_JULES_TEMP_FIXES: Model run excludes um:#1017 as\n",
      " fix_ctile_orog=off\n",
      " This will affect runs with coastal tiling.\n",
      "[WARNING] WARN_JULES_TEMP_FIXES: \n",
      "jules:#610 fix to the radiative roof coupling is not enabled: l_fix_moruses_roof_rad_coupling = .FALSE.\n",
      "[WARNING] WARN_JULES_TEMP_FIXES: \n",
      "Model run excludes a change from ticket um:#4581 as\n",
      " l_fix_osa_chloro=.FALSE.\n",
      " This will mean that chlorophyll used for the ocean albedo is\n",
      " used in gm-3 when it should be mg m-3\n",
      "[WARNING] WARN_JULES_TEMP_FIXES: \n",
      "Model run excludes a change from ticket jules:#194 as\n",
      " l_accurate_rho=.FALSE.\n",
      " This will mean that an inaccurate estimate of surface air \n",
      " density will be used\n",
      "[WARNING] WARN_JULES_TEMP_FIXES: \n",
      "jules:#1279 fix to remove persistent small snow amounts\n",
      " when using the frac_snow_subl_melt=1 option is not enabled: \n",
      "l_fix_snow_frac = .FALSE.\n",
      "[WARNING] WARN_JULES_TEMP_FIXES: \n",
      "Model run excludes a change from ticket um:#1250 as\n",
      " l_fix_improve_drydep=.FALSE.\n",
      " This will mean that dry deposition velocities are set to null\n",
      " for HCl, HOCl, HBr, HOBr, H2SO4, MeOH and Sec_Org and that dry\n",
      " deposition velocities for 9 tiles are inconsistent with 13/17/27 tiles.\n",
      "[WARNING] WARN_JULES_TEMP_FIXES: \n",
      " Model run excludes a change from ticket um:#5651, \n",
      " l_fix_drydep_so2_water=.FALSE.\n",
      " This will mean that the surface resistance of water when \n",
      " calculating the dry deposition of SO2 is too high for 13, 17 \n",
      " and 27 tiles.\n",
      "[WARNING] WARN_JULES_TEMP_FIXES: \n",
      "Model run excludes a change from ticket um:#4157 as\n",
      " l_fix_ukca_h2dd_x=.FALSE. .\n",
      " This will mean that the wrong element is used for h2dd_c & h2dd_m.\n"
     ]
    }
   ],
   "execution_count": null
  },
  {
   "metadata": {},
   "cell_type": "code",
   "source": "",
   "id": "ee6b024c9bb3f1f1",
   "outputs": [],
   "execution_count": null
  }
 ],
 "metadata": {
  "kernelspec": {
   "display_name": "Python 3",
   "language": "python",
   "name": "python3"
  },
  "language_info": {
   "codemirror_mode": {
    "name": "ipython",
    "version": 2
   },
   "file_extension": ".py",
   "mimetype": "text/x-python",
   "name": "python",
   "nbconvert_exporter": "python",
   "pygments_lexer": "ipython2",
   "version": "2.7.6"
  }
 },
 "nbformat": 4,
 "nbformat_minor": 5
}
