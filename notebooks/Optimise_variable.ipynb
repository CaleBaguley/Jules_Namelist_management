{
 "cells": [
  {
   "cell_type": "code",
   "execution_count": null,
   "id": "initial_id",
   "metadata": {
    "collapsed": true
   },
   "outputs": [],
   "source": [
    "import os\n",
    "\n",
    "from src.Calibration.optimise_variable import optimise_variable"
   ]
  },
  {
   "metadata": {},
   "cell_type": "markdown",
   "source": [
    "# Introduction\n",
    "The aim of this notebook is to test the variable optimisation code."
   ],
   "id": "e25d7a21884f4b5f"
  },
  {
   "metadata": {},
   "cell_type": "code",
   "outputs": [],
   "execution_count": null,
   "source": [
    "# File paths\n",
    "JULES_executable = '/Users/jb14389/Desktop/JULES/src/V7.0/Xylem_imparement/build/bin/jules.exe'\n",
    "master_namelist_address = '/Users/jb14389/Desktop/JULES/runs/roses/UK-Ham/2022-2023/namelists/namelists_profit_max/'\n",
    "output_file_address = os.getcwd() + '/Iterate_variable_test_output/'\n",
    "\n",
    "# Variable details\n",
    "variable_names = ['kmax_pft_io', 'P50_io']\n",
    "variable_namelists = ['jules_pftparm', 'jules_pftparm']\n",
    "variable_namelist_files = ['pft_params.nml', 'pft_params.nml']\n",
    "\n",
    "# Observation data\n",
    "observation_data_address = '/Users/jb14389/Desktop/JULES/Alice_Holt/data/alice_holt_flux_2022.nc'\n",
    "obs_variable_keys = [\"GPP\", \"LE\"]\n",
    "jules_out_variable_keys = ['GPP', 'Qle']\n",
    "\n",
    "# Run details\n",
    "run_id_prefix = 'Iterate_variable_test'"
   ],
   "id": "1732b0cd5476a04"
  },
  {
   "metadata": {},
   "cell_type": "code",
   "outputs": [],
   "execution_count": null,
   "source": [
    "optimise_variable(JULES_executable,\n",
    "                  master_namelist_address,\n",
    "                  variable_names,\n",
    "                  variable_namelists,\n",
    "                  variable_namelist_files,\n",
    "                  observation_data_address,\n",
    "                  obs_variable_keys,\n",
    "                  jules_out_variable_keys,\n",
    "                  run_id_prefix,\n",
    "                  variable_limits = None,\n",
    "                  output_folder = None,\n",
    "                  keep_dump_files = False,\n",
    "                  tmp_folder = None,\n",
    "                  overwrite_tmp_files = False,\n",
    "                  append_to_run_info = False)"
   ],
   "id": "566f1356e02f9f11"
  }
 ],
 "metadata": {
  "kernelspec": {
   "display_name": "Python 3",
   "language": "python",
   "name": "python3"
  },
  "language_info": {
   "codemirror_mode": {
    "name": "ipython",
    "version": 2
   },
   "file_extension": ".py",
   "mimetype": "text/x-python",
   "name": "python",
   "nbconvert_exporter": "python",
   "pygments_lexer": "ipython2",
   "version": "2.7.6"
  }
 },
 "nbformat": 4,
 "nbformat_minor": 5
}
